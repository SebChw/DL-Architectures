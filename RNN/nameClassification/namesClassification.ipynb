{
 "cells": [
  {
   "cell_type": "code",
   "execution_count": 1,
   "metadata": {},
   "outputs": [],
   "source": [
    "import unicodedata\n",
    "import os\n",
    "import glob\n",
    "import string\n",
    "from unidecode import unidecode\n",
    "import torch\n",
    "import random\n",
    "import torch.nn as nn\n",
    "from rnn import RNN\n",
    "%load_ext autoreload\n",
    "\n",
    "%autoreload 2"
   ]
  },
  {
   "cell_type": "code",
   "execution_count": 2,
   "metadata": {},
   "outputs": [],
   "source": [
    "DATA_PATH = \"names\"\n",
    "\n",
    "all_letters = string.ascii_letters + \" .,;'\"\n",
    "n_letters = len(all_letters)\n"
   ]
  },
  {
   "cell_type": "code",
   "execution_count": 3,
   "metadata": {},
   "outputs": [],
   "source": [
    "#funny thing that unicodedata.normalize(\"NFD\", \"Ł\") doesn't work\n",
    "# def unicodeToAscii(string):\n",
    "#     return unidecode(string)\n",
    "\n",
    "def readNames(filename):\n",
    "    with open(filename,\"r\", encoding=\"utf-8\") as f:\n",
    "        names = f.read().strip().split(\"\\n\")\n",
    "        return [unidecode(n) for n in names]\n",
    "\n",
    "\n",
    "def getNamesData():\n",
    "    data = {}\n",
    "    for f in glob.glob(f\"{DATA_PATH}/*.txt\"):\n",
    "        country = os.path.splitext(os.path.basename(f))[0] # this is more explicit than writing split(\"\")[-1]\n",
    "        data[country] = readNames(f)\n",
    "    \n",
    "    return data\n",
    "    \n",
    "NAMES = getNamesData()\n",
    "ALL_COUNTRIES = list(NAMES.keys())\n",
    "#with open(os.path.join(DATA_PATH, \"Polish.txt\"), \"r\") as f:\n",
    "#    print(f.read())\n",
    "\n",
    "#print(readNames(os.path.join(DATA_PATH, \"Polish.txt\"))[-1])\n",
    "#print(glob.glob(\"names/*.txt\"))\n"
   ]
  },
  {
   "cell_type": "code",
   "execution_count": 4,
   "metadata": {},
   "outputs": [],
   "source": [
    "def letterToIndex(letter):\n",
    "    return all_letters.find(letter)\n",
    "\n",
    "def letterToTensor(letter):\n",
    "    tensor = torch.zeros(1, n_letters)\n",
    "    tensor[0][letterToIndex(letter)] = 1\n",
    "    return tensor\n",
    "\n",
    "def lineToTensor(line):\n",
    "    tensor = torch.zeros(len(line), 1, n_letters)\n",
    "    for i, letter in enumerate(line):\n",
    "        tensor[i][0][letterToIndex(letter)] = 1\n",
    "\n",
    "    return tensor\n",
    "\n",
    "#print(letterToTensor(\"M\"))\n",
    "#print(lineToTensor(\"Maciek\"))"
   ]
  },
  {
   "cell_type": "code",
   "execution_count": 5,
   "metadata": {},
   "outputs": [],
   "source": [
    "def categoryFromOutput(output):\n",
    "    top_n, top_i = output.topk(1) # returning best k outputs\n",
    "    top_country = top_i[0].item()\n",
    "    return ALL_COUNTRIES[top_country], top_country"
   ]
  },
  {
   "cell_type": "code",
   "execution_count": 6,
   "metadata": {},
   "outputs": [
    {
     "name": "stdout",
     "output_type": "stream",
     "text": [
      "country = Spanish / line = Ortiz\n",
      "country = Russian / line = Haschenko\n",
      "country = Korean / line = Ma\n",
      "country = Irish / line = Eoin\n",
      "country = Chinese / line = Yep\n",
      "country = French / line = Bouchard\n",
      "country = German / line = Lowe\n",
      "country = Japanese / line = Tsuda\n",
      "country = Scottish / line = Morrison\n",
      "country = Irish / line = O'Donoghue\n"
     ]
    }
   ],
   "source": [
    "def randomChoice(l):\n",
    "    return l[random.randint(0, len(l) - 1)]\n",
    "\n",
    "def randomTrainingExample(countries, data):\n",
    "    country = randomChoice(countries)\n",
    "    line = randomChoice(data[country])\n",
    "    country_tensor = torch.tensor([countries.index(country)], dtype=torch.long)\n",
    "    line_tensor = lineToTensor(line)\n",
    "    return country, line, country_tensor, line_tensor\n",
    "\n",
    "for i in range(10):\n",
    "    country, line, country_tensor, line_tensor = randomTrainingExample(ALL_COUNTRIES, NAMES)\n",
    "    print('country =', country, '/ line =', line)"
   ]
  },
  {
   "cell_type": "code",
   "execution_count": 7,
   "metadata": {},
   "outputs": [],
   "source": [
    "criterion = nn.NLLLoss()\n",
    "lr = 0.005\n",
    "rnn = RNN(n_letters, 128, len(ALL_COUNTRIES))"
   ]
  },
  {
   "cell_type": "code",
   "execution_count": 8,
   "metadata": {},
   "outputs": [],
   "source": [
    "#for p in rnn.parameters():\n",
    "    #print(p)"
   ]
  },
  {
   "cell_type": "code",
   "execution_count": 9,
   "metadata": {},
   "outputs": [],
   "source": [
    "def train(country_tensor, line_tensor, criterion):\n",
    "    #This trains for just a single example\n",
    "    hidden = rnn.initHidden()\n",
    "\n",
    "    rnn.zero_grad()\n",
    "\n",
    "    for i in range(line_tensor.size()[0]):\n",
    "        output, hidden = rnn(line_tensor[i], hidden)\n",
    "\n",
    "    loss = criterion(output, country_tensor)\n",
    "    loss.backward()\n",
    "\n",
    "    #We are not using any optimizer\n",
    "    for p in rnn.parameters():\n",
    "        p.data.add_(p.grad.data, alpha=-lr)\n",
    "\n",
    "    return output, loss.item()\n",
    "        "
   ]
  },
  {
   "cell_type": "code",
   "execution_count": 10,
   "metadata": {},
   "outputs": [
    {
     "name": "stdout",
     "output_type": "stream",
     "text": [
      "iteration 5000, loss: 2.7874184567451477\n",
      "Guessed: Vietnamese, answer: Russian, line: Pazy\n",
      "iteration 10000, loss: 2.2457043774932623\n",
      "Guessed: Arabic, answer: Russian, line: Bass\n",
      "iteration 15000, loss: 1.919575013963878\n",
      "Guessed: Portuguese, answer: Portuguese, line: Mateus\n",
      "iteration 20000, loss: 1.726700738329813\n",
      "Guessed: Italian, answer: Italian, line: Brivio\n",
      "iteration 25000, loss: 1.6321668366303668\n",
      "Guessed: Czech, answer: Polish, line: Stanek\n",
      "iteration 30000, loss: 1.5239602475030347\n",
      "Guessed: Korean, answer: Korean, line: Oh \n",
      "iteration 35000, loss: 1.507844653147459\n",
      "Guessed: Portuguese, answer: Greek, line: Demas\n",
      "iteration 40000, loss: 1.437562377931364\n",
      "Guessed: Portuguese, answer: Czech, line: Merta\n",
      "iteration 45000, loss: 1.3906025830023456\n",
      "Guessed: Polish, answer: Polish, line: Winograd\n",
      "iteration 50000, loss: 1.3511015684338519\n",
      "Guessed: French, answer: Dutch, line: Rumpade\n",
      "iteration 55000, loss: 1.3371195090061985\n",
      "Guessed: Korean, answer: Korean, line: Yi\n",
      "iteration 60000, loss: 1.294423151905858\n",
      "Guessed: Vietnamese, answer: Arabic, line: Ba\n",
      "iteration 65000, loss: 1.2457211103286827\n",
      "Guessed: Arabic, answer: Dutch, line: Houtum\n",
      "iteration 70000, loss: 1.2002012519711862\n",
      "Guessed: Portuguese, answer: Portuguese, line: Fonseca\n",
      "iteration 75000, loss: 1.1552520081270776\n",
      "Guessed: English, answer: French, line: Allard\n",
      "iteration 80000, loss: 1.117872013370844\n",
      "Guessed: Japanese, answer: Japanese, line: Taku\n",
      "iteration 85000, loss: 1.070402546075289\n",
      "Guessed: Russian, answer: Russian, line: Lysansky,\n",
      "iteration 90000, loss: 1.00969109125915\n",
      "Guessed: Scottish, answer: Czech, line: Paisar\n",
      "iteration 95000, loss: 0.9868147276885385\n",
      "Guessed: Dutch, answer: Dutch, line: Kloet\n",
      "iteration 100000, loss: 0.9973298687532639\n",
      "Guessed: Dutch, answer: Dutch, line: Stoep\n"
     ]
    }
   ],
   "source": [
    "n_iters = 100000\n",
    "print_every = 5000\n",
    "#plot_every = 1000\n",
    "\n",
    "current_loss = 0 \n",
    "all_losses = []\n",
    "\n",
    "for i in range(1, n_iters + 1):\n",
    "    country, line, country_tensor, line_tensor = randomTrainingExample(ALL_COUNTRIES, NAMES)\n",
    "    output, loss = train(country_tensor, line_tensor, criterion)\n",
    "\n",
    "    current_loss += loss\n",
    "\n",
    "    if i % print_every == 0:\n",
    "        guess, guess_i = categoryFromOutput(output)\n",
    "        print(f\"iteration {i}, loss: {current_loss / print_every}\")\n",
    "        print(f\"Guessed: {guess}, answer: {country}, line: {line}\")\n",
    "\n",
    "        all_losses.append(current_loss / print_every)\n",
    "        current_loss = 0\n",
    "        \n",
    "        \n"
   ]
  },
  {
   "cell_type": "code",
   "execution_count": 11,
   "metadata": {},
   "outputs": [
    {
     "data": {
      "image/png": "[encoded data removed]",
      "text/plain": [
       "<Figure size 432x288 with 2 Axes>"
      ]
     },
     "metadata": {
      "needs_background": "light"
     },
     "output_type": "display_data"
    }
   ],
   "source": [
    "import matplotlib.pyplot as plt\n",
    "import matplotlib.ticker as ticker\n",
    "\n",
    "confusion = torch.zeros(len(ALL_COUNTRIES), len(ALL_COUNTRIES))\n",
    "n_confusion = 10000\n",
    "\n",
    "# Just return an output given a line\n",
    "def evaluate(line_tensor):\n",
    "    hidden = rnn.initHidden()\n",
    "\n",
    "    for i in range(line_tensor.size()[0]):\n",
    "        output, hidden = rnn(line_tensor[i], hidden)\n",
    "\n",
    "    return output\n",
    "\n",
    "# Go through a bunch of examples and record which are correctly guessed\n",
    "for i in range(n_confusion):\n",
    "    category, line, category_tensor, line_tensor = randomTrainingExample(ALL_COUNTRIES, NAMES)\n",
    "    output = evaluate(line_tensor)\n",
    "    guess, guess_i = categoryFromOutput(output)\n",
    "    category_i = ALL_COUNTRIES.index(category)\n",
    "    confusion[category_i][guess_i] += 1\n",
    "\n",
    "# Normalize by dividing every row by its sum\n",
    "for i in range(len(ALL_COUNTRIES)):\n",
    "    confusion[i] = confusion[i] / confusion[i].sum()\n",
    "\n",
    "# Set up plot\n",
    "fig = plt.figure()\n",
    "ax = fig.add_subplot(111)\n",
    "cax = ax.matshow(confusion.numpy())\n",
    "fig.colorbar(cax)\n",
    "\n",
    "# Set up axes\n",
    "ax.set_xticklabels([''] + ALL_COUNTRIES, rotation=90)\n",
    "ax.set_yticklabels([''] + ALL_COUNTRIES)\n",
    "\n",
    "# Force label at every tick\n",
    "ax.xaxis.set_major_locator(ticker.MultipleLocator(1))\n",
    "ax.yaxis.set_major_locator(ticker.MultipleLocator(1))\n",
    "\n",
    "# sphinx_gallery_thumbnail_number = 2\n",
    "plt.show()"
   ]
  },
  {
   "cell_type": "code",
   "execution_count": null,
   "metadata": {},
   "outputs": [],
   "source": []
  }
 ],
 "metadata": {
  "interpreter": {
   "hash": "8c252f30e6b77a0f45cc1bbd0a26b5e9253af7ed12036af03318e246ade66513"
  },
  "kernelspec": {
   "display_name": "Python 3.9.12 ('base')",
   "language": "python",
   "name": "python3"
  },
  "language_info": {
   "codemirror_mode": {
    "name": "ipython",
    "version": 3
   },
   "file_extension": ".py",
   "mimetype": "text/x-python",
   "name": "python",
   "nbconvert_exporter": "python",
   "pygments_lexer": "ipython3",
   "version": "3.9.12"
  },
  "orig_nbformat": 4,
  "vscode": {
   "interpreter": {
    "hash": "8c252f30e6b77a0f45cc1bbd0a26b5e9253af7ed12036af03318e246ade66513"
   }
  }
 },
 "nbformat": 4,
 "nbformat_minor": 2
}
