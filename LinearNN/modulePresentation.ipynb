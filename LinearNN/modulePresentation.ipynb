{
 "cells": [
  {
   "cell_type": "markdown",
   "metadata": {},
   "source": [
    "### this notebook presents how the NumpyNN module may be used"
   ]
  },
  {
   "cell_type": "code",
   "execution_count": 1,
   "metadata": {},
   "outputs": [],
   "source": [
    "%load_ext autoreload\n",
    "%autoreload 2\n",
    "import sys\n",
    "import matplotlib.pyplot as plt\n",
    "\n",
    "sys.path.append(\"Package\")\n",
    "import numpy as np\n",
    "\n",
    "from NumpyNN import blocks, functional, data, optimizers, metrics"
   ]
  },
  {
   "cell_type": "code",
   "execution_count": 2,
   "metadata": {},
   "outputs": [],
   "source": [
    "DATA_PATH = \"Iris.csv\" # Do not use magic values always create some constant variable\n",
    "TARGET_NAME = \"Species\"\n",
    "NUM_VARIABLES = ['SepalLengthCm', 'SepalWidthCm', 'PetalLengthCm', 'PetalWidthCm']\n",
    "dataset = data.Dataset(DATA_PATH, TARGET_NAME, [], NUM_VARIABLES, pipeline_numerical=[functional.normalize])\n",
    "\n",
    "loader = data.DataLoader(dataset)"
   ]
  },
  {
   "cell_type": "code",
   "execution_count": 3,
   "metadata": {},
   "outputs": [],
   "source": [
    "num_of_arguments = 4\n",
    "hidden_size = 30\n",
    "num_of_classes = 3\n",
    "LEARNING_RATE = 1e-2\n",
    "\n",
    "layer = blocks.layers.LinearLayer(num_of_arguments, hidden_size)\n",
    "relu = blocks.layers.ReLU()\n",
    "layer2 = blocks.layers.LinearLayer(hidden_size, num_of_classes)\n",
    "cross_entropy = blocks.losses.CrossEntropyLoss()\n",
    "\n",
    "net = blocks.Network(cross_entropy, layer, relu, layer2)\n",
    "optimizer = optimizers.SGD(net, LEARNING_RATE)\n",
    "\n"
   ]
  },
  {
   "cell_type": "code",
   "execution_count": 4,
   "metadata": {},
   "outputs": [],
   "source": [
    "def train_one_batch(dataloader : data.DataLoader, network: blocks.Network, optimizer : optimizers.Optimizer):\n",
    "    loss = []\n",
    "    for X, targets in dataloader.get_data():\n",
    "        loss.append(network.forward_loss(X, targets))\n",
    "\n",
    "        network.backward()\n",
    "        \n",
    "        optimizer.update_weights()\n",
    "\n",
    "        optimizer.zero_grad()\n",
    "\n",
    "    return sum(loss) / len(loss)"
   ]
  },
  {
   "cell_type": "code",
   "execution_count": 5,
   "metadata": {},
   "outputs": [],
   "source": [
    "def inference(X, network: blocks.Network):\n",
    "    logits = network.forward(X)\n",
    "    probabilities = functional.softmax(logits)\n",
    "    predictions = np.argmax(probabilities, axis=1)\n",
    "\n",
    "    return predictions\n"
   ]
  },
  {
   "cell_type": "code",
   "execution_count": 6,
   "metadata": {},
   "outputs": [
    {
     "data": {
      "text/plain": [
       "[<matplotlib.lines.Line2D at 0x22d9aa9bd00>]"
      ]
     },
     "execution_count": 6,
     "metadata": {},
     "output_type": "execute_result"
    },
    {
     "data": {
      "image/png": "[encoded data removed]",
      "text/plain": [
       "<Figure size 432x288 with 1 Axes>"
      ]
     },
     "metadata": {
      "needs_background": "light"
     },
     "output_type": "display_data"
    }
   ],
   "source": [
    "EPOCHS = 50\n",
    "losses = []\n",
    "for epoch in range(EPOCHS):\n",
    "    losses.append(train_one_batch(loader, net, optimizer))\n",
    "\n",
    "plt.plot(losses)"
   ]
  },
  {
   "cell_type": "code",
   "execution_count": 7,
   "metadata": {},
   "outputs": [
    {
     "name": "stdout",
     "output_type": "stream",
     "text": [
      "accuracy: 98.00%\n"
     ]
    }
   ],
   "source": [
    "accuracy = metrics.accuracy_multiclass(net, dataset.dataset, dataset.target)\n",
    "print(f\"accuracy: {accuracy * 100:.2f}%\")"
   ]
  }
 ],
 "metadata": {
  "interpreter": {
   "hash": "6a2214deb2e00a4588fb64d6e2ad9e78ab07788ce628f39696990503e7a4b014"
  },
  "kernelspec": {
   "display_name": "Python 3.9.7 ('base')",
   "language": "python",
   "name": "python3"
  },
  "language_info": {
   "codemirror_mode": {
    "name": "ipython",
    "version": 3
   },
   "file_extension": ".py",
   "mimetype": "text/x-python",
   "name": "python",
   "nbconvert_exporter": "python",
   "pygments_lexer": "ipython3",
   "version": "3.9.7"
  },
  "orig_nbformat": 4
 },
 "nbformat": 4,
 "nbformat_minor": 2
}
